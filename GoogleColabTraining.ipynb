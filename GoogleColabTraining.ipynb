{
  "cells": [
    {
      "cell_type": "code",
      "execution_count": null,
      "metadata": {
        "colab": {
          "base_uri": "https://localhost:8080/"
        },
        "id": "deFP_nKdaTxH",
        "outputId": "18c2f651-bed4-4511-85ba-ed68f94fc15b"
      },
      "outputs": [],
      "source": [
        "from google.colab import drive\n",
        "drive.mount('/content/drive')\n",
        "import os\n",
        "os.chdir(\"drive/My Drive/Colab Notebooks/src\")"
      ]
    },
    {
      "cell_type": "code",
      "execution_count": null,
      "metadata": {
        "colab": {
          "base_uri": "https://localhost:8080/",
          "height": 1000
        },
        "id": "hgJP1eb7cNoq",
        "outputId": "0e9e1a61-9ba0-40aa-b3df-3fb9e3afd645"
      },
      "outputs": [],
      "source": [
        "!pip install scikit-image\n",
        "!pip install tensorflow==2.3.0"
      ]
    },
    {
      "cell_type": "code",
      "execution_count": null,
      "metadata": {
        "colab": {
          "base_uri": "https://localhost:8080/"
        },
        "id": "3mOvkOefaphn",
        "outputId": "384be861-cef7-41ff-d219-0de60d236691"
      },
      "outputs": [],
      "source": [
        "import train_model\n",
        "import skimage\n",
        "from skimage import io\n",
        "\n",
        "args = {\n",
        "    'training-images': 'images_train',\n",
        "    'steps-per-epoch': 30,\n",
        "    'epochs': 10,\n",
        "    'runs': 3,\n",
        "    'save-model': 'models/model1v',\n",
        "    'load-model': 'models/goodmodel1',\n",
        "    'batch-size': 8,\n",
        "    'prefetch': 2\n",
        "}\n",
        "train_model.main(args)"
      ]
    }
  ],
  "metadata": {
    "accelerator": "GPU",
    "colab": {
      "collapsed_sections": [],
      "name": "training.ipynb",
      "provenance": []
    },
    "kernelspec": {
      "display_name": "Python 3",
      "name": "python3"
    },
    "language_info": {
      "name": "python"
    }
  },
  "nbformat": 4,
  "nbformat_minor": 0
}
